{
 "cells": [
  {
   "cell_type": "code",
   "execution_count": 2,
   "metadata": {},
   "outputs": [],
   "source": [
    "import pandas as pd\n",
    "\n",
    "# Read the Excel file\n",
    "file_path = 'DATA/Info_BDApnea_QuironMalaga.xlsx'\n",
    "df = pd.read_excel(file_path)\n",
    "\n",
    "# Select the required columns\n",
    "df = df[['Patient', 'Gender', 'Edad', 'Talla', 'Peso', 'IAH', 'PerCervical']]\n",
    "\n",
    "# Rename the columns\n",
    "df.rename(columns={\n",
    "    'Edad': 'Age',\n",
    "    'Talla': 'Height',\n",
    "    'Peso': 'Weight',\n",
    "    'PerCervical': 'Cervical'\n",
    "}, inplace=True)\n",
    "\n",
    "# Convert Weight column to float\n",
    "df['Weight'] = pd.to_numeric(df['Weight'], errors='coerce')\n",
    "\n",
    "# Remove rows with non-numerical values and rows with -1 or NaN\n",
    "df = df.dropna()\n",
    "df = df[(df != -1).all(axis=1)]\n",
    "\n",
    "# Save the resulting data frame to a new Excel file\n",
    "output_path = 'DATA/Copilot_OSA_DB_UPM.xlsx'\n",
    "df.to_excel(output_path, index=False)"
   ]
  }
 ],
 "metadata": {
  "kernelspec": {
   "display_name": "base",
   "language": "python",
   "name": "python3"
  },
  "language_info": {
   "codemirror_mode": {
    "name": "ipython",
    "version": 3
   },
   "file_extension": ".py",
   "mimetype": "text/x-python",
   "name": "python",
   "nbconvert_exporter": "python",
   "pygments_lexer": "ipython3",
   "version": "3.11.0"
  }
 },
 "nbformat": 4,
 "nbformat_minor": 2
}
